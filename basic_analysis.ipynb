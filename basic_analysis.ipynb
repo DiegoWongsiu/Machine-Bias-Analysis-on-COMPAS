{
 "cells": [
  {
   "attachments": {},
   "cell_type": "markdown",
   "metadata": {},
   "source": [
    "# Basic Analysis\n",
    "\n",
    "This part mainly focus on the analysis of overall situation of the dataset and some of the detailed description on specific features, including charge_degree, legal_status, raw_score, decile_score, recidivist, sex, race, age, r_days_from_arrest, rec_supervision_level. "
   ]
  },
  {
   "attachments": {},
   "cell_type": "markdown",
   "metadata": {},
   "source": [
    "### 0. Configuration and Initialization\n",
    "The compas, summary and people tables are the main focus of this project based on the main objective. Tables will be read from a SQL database and processed with dataframe datatypes. "
   ]
  },
  {
   "cell_type": "code",
   "execution_count": 51,
   "metadata": {},
   "outputs": [],
   "source": [
    "import sqlite3\n",
    "import pandas as pd\n",
    "import numpy as np\n",
    "import matplotlib.pyplot as plt\n",
    "import seaborn as sns\n",
    "sns.set(style=\"whitegrid\")\n",
    "\n",
    "conn = sqlite3.connect('./data/compas.db')\n",
    "c = conn.cursor()"
   ]
  },
  {
   "cell_type": "code",
   "execution_count": 29,
   "metadata": {},
   "outputs": [],
   "source": [
    "compas = pd.read_sql_query(\"SELECT * FROM compas\", conn)\n",
    "charge = pd.read_sql_query(\"SELECT * FROM charge\", conn)\n",
    "casearrest = pd.read_sql_query(\"SELECT * FROM casearrest\", conn)\n",
    "people = pd.read_sql_query(\"SELECT * FROM people\", conn)"
   ]
  },
  {
   "cell_type": "code",
   "execution_count": 71,
   "metadata": {},
   "outputs": [
    {
     "name": "stdout",
     "output_type": "stream",
     "text": [
      "Index(['id', 'first', 'last', 'compas_person_id', 'compas_case_id',\n",
      "       'compas_assessment_id', 'agency_text', 'scale_set', 'assessment_reason',\n",
      "       'legal_status', 'custody_status', 'marital_status', 'screening_date',\n",
      "       'rec_supervision_level', 'rec_supervision_level_text', 'score_text',\n",
      "       'scale_id', 'type_of_assessment', 'raw_score', 'decile_score',\n",
      "       'person_id'],\n",
      "      dtype='object')\n",
      "Index(['id', 'case_type', 'case_number', 'filing_date', 'offense_date',\n",
      "       'charge_number', 'charge_degree', 'charge', 'date_charge_filed',\n",
      "       'filing_type', 'filing_agency', 'name', 'days_since_compas', 'statute',\n",
      "       'person_id'],\n",
      "      dtype='object')\n",
      "Index(['id', 'name', 'case_number', 'arrest_id', 'arrest_date',\n",
      "       'charge_degree', 'days_since_compas_arrest', 'person_id'],\n",
      "      dtype='object')\n",
      "Index(['id', 'name', 'first', 'last', 'sex', 'race', 'dob', 'age', 'age_cat',\n",
      "       'juv_fel_count', 'juv_misd_count', 'juv_other_count',\n",
      "       'compas_screening_date', 'decile_score', 'score_text', 'violent_recid',\n",
      "       'priors_count', 'days_b_screening_arrest', 'c_jail_in', 'c_jail_out',\n",
      "       'c_case_number', 'c_days_from_compas', 'c_arrest_date',\n",
      "       'c_offense_date', 'c_charge_degree', 'c_charge_desc', 'is_recid',\n",
      "       'num_r_cases', 'r_case_number', 'r_charge_degree', 'r_days_from_arrest',\n",
      "       'r_offense_date', 'r_charge_desc', 'r_jail_in', 'r_jail_out',\n",
      "       'is_violent_recid', 'num_vr_cases', 'vr_case_number',\n",
      "       'vr_charge_degree', 'vr_offense_date', 'vr_charge_desc'],\n",
      "      dtype='object')\n"
     ]
    }
   ],
   "source": [
    "print(compas.columns)\n",
    "print(charge.columns)\n",
    "print(casearrest.columns)\n",
    "print(people.columns)"
   ]
  },
  {
   "attachments": {},
   "cell_type": "markdown",
   "metadata": {},
   "source": [
    "### 1. Overall situation"
   ]
  },
  {
   "attachments": {},
   "cell_type": "markdown",
   "metadata": {},
   "source": [
    "The COMPAS system records the risk of violence, recidivism or failure to appear respectively for a person. "
   ]
  },
  {
   "cell_type": "code",
   "execution_count": 12,
   "metadata": {},
   "outputs": [
    {
     "data": {
      "text/plain": [
       "array(['Risk of Violence', 'Risk of Recidivism',\n",
       "       'Risk of Failure to Appear'], dtype=object)"
      ]
     },
     "execution_count": 12,
     "metadata": {},
     "output_type": "execute_result"
    }
   ],
   "source": [
    "compas['type_of_assessment'].unique()"
   ]
  },
  {
   "attachments": {},
   "cell_type": "markdown",
   "metadata": {},
   "source": [
    "There's a little difference between compas person id and person id, we will use person id as default index for identification. Then, 11757 people are recorded in the dataset. "
   ]
  },
  {
   "cell_type": "code",
   "execution_count": 10,
   "metadata": {},
   "outputs": [
    {
     "data": {
      "text/plain": [
       "(11757,)"
      ]
     },
     "execution_count": 10,
     "metadata": {},
     "output_type": "execute_result"
    }
   ],
   "source": [
    "people['id'].unique().shape"
   ]
  },
  {
   "cell_type": "code",
   "execution_count": 5,
   "metadata": {},
   "outputs": [
    {
     "name": "stdout",
     "output_type": "stream",
     "text": [
      "(11757,) (11779,)\n"
     ]
    }
   ],
   "source": [
    "print(compas['person_id'].unique().shape, compas['compas_person_id'].unique().shape)"
   ]
  },
  {
   "attachments": {},
   "cell_type": "markdown",
   "metadata": {},
   "source": [
    "The compas case id is almost the same as person id, each people have 3 cases with same case id, recording the assessment of risk of violence, recidivism, and failure to appear. "
   ]
  },
  {
   "cell_type": "code",
   "execution_count": 24,
   "metadata": {},
   "outputs": [
    {
     "data": {
      "text/plain": [
       "(12094,)"
      ]
     },
     "execution_count": 24,
     "metadata": {},
     "output_type": "execute_result"
    }
   ],
   "source": [
    "compas['compas_case_id'].unique().shape"
   ]
  },
  {
   "cell_type": "code",
   "execution_count": 25,
   "metadata": {},
   "outputs": [
    {
     "data": {
      "text/plain": [
       "(37578,)"
      ]
     },
     "execution_count": 25,
     "metadata": {},
     "output_type": "execute_result"
    }
   ],
   "source": [
    "compas['compas_case_id'].shape"
   ]
  },
  {
   "attachments": {},
   "cell_type": "markdown",
   "metadata": {},
   "source": [
    "148,086 charge and 128,183 arrest in total. "
   ]
  },
  {
   "cell_type": "code",
   "execution_count": 27,
   "metadata": {},
   "outputs": [
    {
     "data": {
      "text/plain": [
       "(148086,)"
      ]
     },
     "execution_count": 27,
     "metadata": {},
     "output_type": "execute_result"
    }
   ],
   "source": [
    "charge['id'].unique().shape"
   ]
  },
  {
   "cell_type": "code",
   "execution_count": 28,
   "metadata": {},
   "outputs": [
    {
     "data": {
      "text/plain": [
       "(11142,)"
      ]
     },
     "execution_count": 28,
     "metadata": {},
     "output_type": "execute_result"
    }
   ],
   "source": [
    "charge['person_id'].unique().shape"
   ]
  },
  {
   "cell_type": "code",
   "execution_count": 31,
   "metadata": {},
   "outputs": [
    {
     "data": {
      "text/plain": [
       "(128183,)"
      ]
     },
     "execution_count": 31,
     "metadata": {},
     "output_type": "execute_result"
    }
   ],
   "source": [
    "casearrest['id'].unique().shape"
   ]
  },
  {
   "cell_type": "code",
   "execution_count": 30,
   "metadata": {},
   "outputs": [
    {
     "data": {
      "text/plain": [
       "(10963,)"
      ]
     },
     "execution_count": 30,
     "metadata": {},
     "output_type": "execute_result"
    }
   ],
   "source": [
    "casearrest['person_id'].unique().shape"
   ]
  },
  {
   "attachments": {},
   "cell_type": "markdown",
   "metadata": {},
   "source": [
    "Based on the date of the arrest and charge, most of the cases are from 2013-2020. Also noted that a false date appears in case arrest, which should be cleaned later. "
   ]
  },
  {
   "cell_type": "code",
   "execution_count": 52,
   "metadata": {},
   "outputs": [
    {
     "data": {
      "text/plain": [
       "<AxesSubplot:xlabel='offense_date'>"
      ]
     },
     "execution_count": 52,
     "metadata": {},
     "output_type": "execute_result"
    },
    {
     "data": {
      "image/png": "[encoded data removed]",
      "text/plain": [
       "<Figure size 432x288 with 1 Axes>"
      ]
     },
     "metadata": {},
     "output_type": "display_data"
    }
   ],
   "source": [
    "grouped_month = charge.groupby(pd.to_datetime(charge['offense_date']).dt.to_period('M')).count()\n",
    "grouped_month['id'].plot()"
   ]
  },
  {
   "cell_type": "code",
   "execution_count": 53,
   "metadata": {},
   "outputs": [
    {
     "data": {
      "text/plain": [
       "<AxesSubplot:xlabel='arrest_date'>"
      ]
     },
     "execution_count": 53,
     "metadata": {},
     "output_type": "execute_result"
    },
    {
     "data": {
      "image/png": "[encoded data removed]",
      "text/plain": [
       "<Figure size 432x288 with 1 Axes>"
      ]
     },
     "metadata": {},
     "output_type": "display_data"
    }
   ],
   "source": [
    "grouped_month = casearrest.groupby(pd.to_datetime(casearrest['arrest_date']).dt.to_period('M')).count()\n",
    "grouped_month['id'].plot()"
   ]
  },
  {
   "attachments": {},
   "cell_type": "markdown",
   "metadata": {},
   "source": [
    "### 2. Detail description of specific features"
   ]
  },
  {
   "attachments": {},
   "cell_type": "markdown",
   "metadata": {},
   "source": [
    "#### 2.1 charge_degree\n",
    "\n",
    "14 degrees of charges in compas record and 17 degrees in charge record, ignoring the 'XXXXXX' which may means no record. The different degrees are '0', 'M3' and 'TC4'. If we ignore the degrees with less than 100 record, both of the record will be the same. "
   ]
  },
  {
   "cell_type": "code",
   "execution_count": 60,
   "metadata": {},
   "outputs": [
    {
     "data": {
      "text/plain": [
       "(0)           50656\n",
       "(F3)          30533\n",
       "(M1)          28003\n",
       "(M2)          22295\n",
       "(F2)           8943\n",
       "(MO3)          3537\n",
       "(F1)           1992\n",
       "(TCX)           895\n",
       "(NI0)           496\n",
       "(F7)            430\n",
       "(CO3)           128\n",
       "(TC4)            90\n",
       "(F5)             32\n",
       "(F6)             22\n",
       "(X)              14\n",
       "(CT)             13\n",
       "XXXXXXXXXX        4\n",
       "(M3)              3\n",
       "Name: charge_degree, dtype: int64"
      ]
     },
     "execution_count": 60,
     "metadata": {},
     "output_type": "execute_result"
    }
   ],
   "source": [
    "charge['charge_degree'].value_counts()"
   ]
  },
  {
   "cell_type": "code",
   "execution_count": 62,
   "metadata": {},
   "outputs": [
    {
     "data": {
      "text/plain": [
       "(F3)     5913\n",
       "(M1)     2831\n",
       "(F2)      953\n",
       "(M2)      857\n",
       "(F1)      221\n",
       "(F7)      128\n",
       "(MO3)      83\n",
       "(F6)       10\n",
       "(NI0)       8\n",
       "(F5)        7\n",
       "(X)         1\n",
       "(CT)        1\n",
       "(TCX)       1\n",
       "(CO3)       1\n",
       "Name: c_charge_degree, dtype: int64"
      ]
     },
     "execution_count": 62,
     "metadata": {},
     "output_type": "execute_result"
    }
   ],
   "source": [
    "people['c_charge_degree'].value_counts()"
   ]
  },
  {
   "attachments": {},
   "cell_type": "markdown",
   "metadata": {},
   "source": [
    "#### 2.2 legal Status\n",
    "\n",
    "All of the record in COMPAS are in pretrail status. "
   ]
  },
  {
   "cell_type": "code",
   "execution_count": 66,
   "metadata": {},
   "outputs": [
    {
     "data": {
      "text/plain": [
       "Pretrial    37578\n",
       "Name: legal_status, dtype: int64"
      ]
     },
     "execution_count": 66,
     "metadata": {},
     "output_type": "execute_result"
    }
   ],
   "source": [
    "compas['legal_status'].value_counts()"
   ]
  },
  {
   "attachments": {},
   "cell_type": "markdown",
   "metadata": {},
   "source": [
    "#### 2.3 raw score & decile score"
   ]
  },
  {
   "attachments": {},
   "cell_type": "markdown",
   "metadata": {},
   "source": [
    "All of the decile score are scaled from raw score. Since this project only focus on recidivism, the following histogram is filtered with risk of recidivism. "
   ]
  },
  {
   "cell_type": "code",
   "execution_count": 69,
   "metadata": {},
   "outputs": [
    {
     "data": {
      "text/plain": [
       "<AxesSubplot:>"
      ]
     },
     "execution_count": 69,
     "metadata": {},
     "output_type": "execute_result"
    },
    {
     "data": {
      "image/png": "[encoded data removed]",
      "text/plain": [
       "<Figure size 432x288 with 1 Axes>"
      ]
     },
     "metadata": {},
     "output_type": "display_data"
    }
   ],
   "source": [
    "compas[compas['type_of_assessment']=='Risk of Recidivism']['raw_score'].hist()"
   ]
  },
  {
   "cell_type": "code",
   "execution_count": 70,
   "metadata": {},
   "outputs": [
    {
     "data": {
      "text/plain": [
       "<AxesSubplot:>"
      ]
     },
     "execution_count": 70,
     "metadata": {},
     "output_type": "execute_result"
    },
    {
     "data": {
      "image/png": "[encoded data removed]",
      "text/plain": [
       "<Figure size 432x288 with 1 Axes>"
      ]
     },
     "metadata": {},
     "output_type": "display_data"
    }
   ],
   "source": [
    "compas[compas['type_of_assessment']=='Risk of Recidivism']['decile_score'].hist()"
   ]
  },
  {
   "attachments": {},
   "cell_type": "markdown",
   "metadata": {},
   "source": [
    "#### 2.4 Revidicist"
   ]
  },
  {
   "attachments": {},
   "cell_type": "markdown",
   "metadata": {},
   "source": [
    "62% of the people do not recidivate and 31% of them recidivated. The rest of them are lack of record and will be cleaned. "
   ]
  },
  {
   "cell_type": "code",
   "execution_count": 72,
   "metadata": {},
   "outputs": [
    {
     "name": "stdout",
     "output_type": "stream",
     "text": [
      " 0    7335\n",
      " 1    3703\n",
      "-1     719\n",
      "Name: is_recid, dtype: int64\n",
      " 0    0.623884\n",
      " 1    0.314961\n",
      "-1    0.061155\n",
      "Name: is_recid, dtype: float64\n"
     ]
    }
   ],
   "source": [
    "print(people['is_recid'].value_counts())\n",
    "print(people['is_recid'].value_counts()/people['is_recid'].shape[0])"
   ]
  },
  {
   "attachments": {},
   "cell_type": "markdown",
   "metadata": {},
   "source": [
    "#### 2.5 Sex\n",
    "\n",
    "79% of the people in the record are male and 21% are female."
   ]
  },
  {
   "cell_type": "code",
   "execution_count": 75,
   "metadata": {},
   "outputs": [
    {
     "name": "stdout",
     "output_type": "stream",
     "text": [
      "Male      9336\n",
      "Female    2421\n",
      "Name: sex, dtype: int64\n",
      "Male      0.79408\n",
      "Female    0.20592\n",
      "Name: sex, dtype: float64\n"
     ]
    }
   ],
   "source": [
    "print(people['sex'].value_counts())\n",
    "print(people['sex'].value_counts()/people['sex'].shape[0])"
   ]
  },
  {
   "attachments": {},
   "cell_type": "markdown",
   "metadata": {},
   "source": [
    "#### 2.6 Race\n",
    "49% of them are African-American, 25% are Caucasian. The rest of the races are Hispanic, Asian, Native American and other. "
   ]
  },
  {
   "cell_type": "code",
   "execution_count": 76,
   "metadata": {},
   "outputs": [
    {
     "name": "stdout",
     "output_type": "stream",
     "text": [
      "African-American    5813\n",
      "Caucasian           4085\n",
      "Hispanic            1100\n",
      "Other                661\n",
      "Asian                 58\n",
      "Native American       40\n",
      "Name: race, dtype: int64\n",
      "African-American    0.494429\n",
      "Caucasian           0.347453\n",
      "Hispanic            0.093561\n",
      "Other               0.056222\n",
      "Asian               0.004933\n",
      "Native American     0.003402\n",
      "Name: race, dtype: float64\n"
     ]
    }
   ],
   "source": [
    "print(people['race'].value_counts())\n",
    "print(people['race'].value_counts()/people['race'].shape[0])"
   ]
  },
  {
   "attachments": {},
   "cell_type": "markdown",
   "metadata": {},
   "source": [
    "#### 2.7 Age"
   ]
  },
  {
   "cell_type": "code",
   "execution_count": 82,
   "metadata": {},
   "outputs": [
    {
     "data": {
      "text/plain": [
       "<AxesSubplot:xlabel='age', ylabel='Percent'>"
      ]
     },
     "execution_count": 82,
     "metadata": {},
     "output_type": "execute_result"
    },
    {
     "data": {
      "image/png": "[encoded data removed]",
      "text/plain": [
       "<Figure size 432x288 with 1 Axes>"
      ]
     },
     "metadata": {},
     "output_type": "display_data"
    }
   ],
   "source": [
    "sns.histplot(data=people, x=\"age\", stat = 'percent', bins = 20)"
   ]
  },
  {
   "attachments": {},
   "cell_type": "markdown",
   "metadata": {},
   "source": [
    "#### 2.8 Rec_supervision_level\n",
    "\n",
    "59% of them are under 1 level of supervision, 19% are level 2, 14% are level 3 and 9% are level 4."
   ]
  },
  {
   "cell_type": "code",
   "execution_count": 92,
   "metadata": {},
   "outputs": [
    {
     "name": "stdout",
     "output_type": "stream",
     "text": [
      "1    7400\n",
      "2    2334\n",
      "3    1712\n",
      "4    1080\n",
      "Name: rec_supervision_level, dtype: int64\n",
      "1    0.590771\n",
      "2    0.186332\n",
      "3    0.136676\n",
      "4    0.086221\n",
      "Name: rec_supervision_level, dtype: float64\n"
     ]
    }
   ],
   "source": [
    "print(compas[compas['type_of_assessment']=='Risk of Recidivism']['rec_supervision_level'].value_counts())\n",
    "print(compas[compas['type_of_assessment']=='Risk of Recidivism']['rec_supervision_level'].value_counts()/compas[compas['type_of_assessment']=='Risk of Recidivism']['rec_supervision_level'].shape[0])"
   ]
  }
 ],
 "metadata": {
  "kernelspec": {
   "display_name": "base",
   "language": "python",
   "name": "python3"
  },
  "language_info": {
   "codemirror_mode": {
    "name": "ipython",
    "version": 3
   },
   "file_extension": ".py",
   "mimetype": "text/x-python",
   "name": "python",
   "nbconvert_exporter": "python",
   "pygments_lexer": "ipython3",
   "version": "3.7.4"
  },
  "orig_nbformat": 4,
  "vscode": {
   "interpreter": {
    "hash": "eb4947917fba57eb574e7b182dc9adf7f11844200c4b3f39c0d3bc62631124a4"
   }
  }
 },
 "nbformat": 4,
 "nbformat_minor": 2
}
